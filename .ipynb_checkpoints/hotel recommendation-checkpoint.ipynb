{
 "cells": [
  {
   "cell_type": "code",
   "execution_count": 2,
   "metadata": {},
   "outputs": [
    {
     "name": "stdout",
     "output_type": "stream",
     "text": [
      "Collecting kaggle-cli\n",
      "  Downloading https://files.pythonhosted.org/packages/67/61/710d02460bc4367ffd1f5e71cd9c031fb278f78aa0e8e32ca9dd99a2add8/kaggle-cli-0.12.13.tar.gz\n",
      "Collecting cliff<2.9,>=2.8.0 (from kaggle-cli)\n",
      "\u001b[?25l  Downloading https://files.pythonhosted.org/packages/ee/e8/140ad9b5826920a8b85c187095e7725b87b913fc40243aa66dd04e9d82d6/cliff-2.8.1.tar.gz (73kB)\n",
      "\u001b[K    100% |████████████████████████████████| 81kB 2.4MB/s ta 0:00:01\n",
      "\u001b[?25hCollecting MechanicalSoup<0.9,>=0.7.0 (from kaggle-cli)\n",
      "  Downloading https://files.pythonhosted.org/packages/5c/2e/f63ed26b51e36efa4cc22cad18187fcb0a253f756d548c96bb931f13de98/MechanicalSoup-0.8.0-py2.py3-none-any.whl\n",
      "Collecting lxml<4.1,>=4.0.0 (from kaggle-cli)\n",
      "\u001b[?25l  Downloading https://files.pythonhosted.org/packages/a0/b5/4c6995f8f259f0858f79460e6d277888f8498ce1c1a466dfbb24f06ba83f/lxml-4.0.0-cp36-cp36m-manylinux1_x86_64.whl (5.3MB)\n",
      "\u001b[K    100% |████████████████████████████████| 5.3MB 375kB/s ta 0:00:011    31% |██████████▏                     | 1.7MB 12.6MB/s eta 0:00:01    58% |██████████████████▊             | 3.1MB 7.7MB/s eta 0:00:01\n",
      "\u001b[?25hCollecting cssselect<1.1,>=1.0.1 (from kaggle-cli)\n",
      "  Downloading https://files.pythonhosted.org/packages/7b/44/25b7283e50585f0b4156960691d951b05d061abf4a714078393e51929b30/cssselect-1.0.3-py2.py3-none-any.whl\n",
      "Collecting configparser (from kaggle-cli)\n",
      "\u001b[33m  Cache entry deserialization failed, entry ignored\u001b[0m\n",
      "  Using cached https://files.pythonhosted.org/packages/7c/69/c2ce7e91c89dc073eb1aa74c0621c3eefbffe8216b3f9af9d3885265c01c/configparser-3.5.0.tar.gz\n",
      "Collecting progressbar2<3.35,>=3.34.3 (from kaggle-cli)\n",
      "  Downloading https://files.pythonhosted.org/packages/87/31/b984e17bcc7491c1baeda3906fe3abc14cb5cd5dbd046ab46d9fc7a2edfd/progressbar2-3.34.3-py2.py3-none-any.whl\n",
      "Requirement already satisfied: beautifulsoup4<4.7,>=4.6.0 in /home/nbuser/anaconda3_501/lib/python3.6/site-packages (from kaggle-cli) (4.6.0)\n",
      "Requirement already satisfied: pbr!=2.1.0,>=2.0.0 in /home/nbuser/anaconda3_501/lib/python3.6/site-packages (from cliff<2.9,>=2.8.0->kaggle-cli) (4.0.4)\n",
      "Collecting cmd2>=0.6.7 (from cliff<2.9,>=2.8.0->kaggle-cli)\n",
      "\u001b[?25l  Downloading https://files.pythonhosted.org/packages/21/17/76a4dc6ac0e0281d87387fd2cbb9cc92ece379c590d9acb7a1693e4aebd8/cmd2-0.9.1-py3-none-any.whl (70kB)\n",
      "\u001b[K    100% |████████████████████████████████| 71kB 4.8MB/s ta 0:00:01\n",
      "\u001b[?25hCollecting PrettyTable<0.8,>=0.7.1 (from cliff<2.9,>=2.8.0->kaggle-cli)\n",
      "  Downloading https://files.pythonhosted.org/packages/ef/30/4b0746848746ed5941f052479e7c23d2b56d174b82f4fd34a25e389831f5/prettytable-0.7.2.tar.bz2\n",
      "Requirement already satisfied: pyparsing>=2.1.0 in /home/nbuser/anaconda3_501/lib/python3.6/site-packages (from cliff<2.9,>=2.8.0->kaggle-cli) (2.2.0)\n",
      "Requirement already satisfied: six>=1.9.0 in /home/nbuser/anaconda3_501/lib/python3.6/site-packages (from cliff<2.9,>=2.8.0->kaggle-cli) (1.11.0)\n",
      "Collecting stevedore>=1.20.0 (from cliff<2.9,>=2.8.0->kaggle-cli)\n",
      "  Downloading https://files.pythonhosted.org/packages/17/6b/3b7d6d08b2ab3e5ef09e01c9f7b3b590ee135f289bb94553419e40922c25/stevedore-1.28.0-py2.py3-none-any.whl\n",
      "Requirement already satisfied: PyYAML>=3.10.0 in /home/nbuser/anaconda3_501/lib/python3.6/site-packages (from cliff<2.9,>=2.8.0->kaggle-cli) (3.12)\n",
      "Requirement already satisfied: requests>=2.0 in /home/nbuser/anaconda3_501/lib/python3.6/site-packages (from MechanicalSoup<0.9,>=0.7.0->kaggle-cli) (2.18.4)\n",
      "Collecting python-utils>=2.1.0 (from progressbar2<3.35,>=3.34.3->kaggle-cli)\n",
      "  Downloading https://files.pythonhosted.org/packages/eb/a0/19119d8b7c05be49baf6c593f11c432d571b70d805f2fe94c0585e55e4c8/python_utils-2.3.0-py2.py3-none-any.whl\n",
      "Requirement already satisfied: wcwidth; sys_platform != \"win32\" in /home/nbuser/anaconda3_501/lib/python3.6/site-packages (from cmd2>=0.6.7->cliff<2.9,>=2.8.0->kaggle-cli) (0.1.7)\n",
      "Requirement already satisfied: colorama in /home/nbuser/anaconda3_501/lib/python3.6/site-packages (from cmd2>=0.6.7->cliff<2.9,>=2.8.0->kaggle-cli) (0.3.9)\n",
      "Collecting pyperclip>=1.5.27 (from cmd2>=0.6.7->cliff<2.9,>=2.8.0->kaggle-cli)\n",
      "  Downloading https://files.pythonhosted.org/packages/33/15/f3c29b381815ae75e27589583655f4a8567721c541b8ba8cd52f76868655/pyperclip-1.6.2.tar.gz\n",
      "Requirement already satisfied: chardet<3.1.0,>=3.0.2 in /home/nbuser/anaconda3_501/lib/python3.6/site-packages (from requests>=2.0->MechanicalSoup<0.9,>=0.7.0->kaggle-cli) (3.0.4)\n",
      "Requirement already satisfied: idna<2.7,>=2.5 in /home/nbuser/anaconda3_501/lib/python3.6/site-packages (from requests>=2.0->MechanicalSoup<0.9,>=0.7.0->kaggle-cli) (2.6)\n",
      "Requirement already satisfied: urllib3<1.23,>=1.21.1 in /home/nbuser/anaconda3_501/lib/python3.6/site-packages (from requests>=2.0->MechanicalSoup<0.9,>=0.7.0->kaggle-cli) (1.22)\n",
      "Requirement already satisfied: certifi>=2017.4.17 in /home/nbuser/anaconda3_501/lib/python3.6/site-packages (from requests>=2.0->MechanicalSoup<0.9,>=0.7.0->kaggle-cli) (2017.7.27.1)\n",
      "Building wheels for collected packages: kaggle-cli, cliff, configparser, PrettyTable, pyperclip\n",
      "  Running setup.py bdist_wheel for kaggle-cli ... \u001b[?25ldone\n",
      "\u001b[?25h  Stored in directory: /home/nbuser/.cache/pip/wheels/d5/bb/10/c1dd1b08c7433c943cb55c46367ae3f891415e8a37300ff8a7\n",
      "  Running setup.py bdist_wheel for cliff ... \u001b[?25ldone\n",
      "\u001b[?25h  Stored in directory: /home/nbuser/.cache/pip/wheels/50/00/6d/d4aeb5ccdd47dd76800592b26f943e4959bc705b2d4e6e54e1\n",
      "  Running setup.py bdist_wheel for configparser ... \u001b[?25ldone\n",
      "\u001b[?25h  Stored in directory: /home/nbuser/.cache/pip/wheels/a3/61/79/424ef897a2f3b14684a7de5d89e8600b460b89663e6ce9d17c\n",
      "  Running setup.py bdist_wheel for PrettyTable ... \u001b[?25ldone\n",
      "\u001b[?25h  Stored in directory: /home/nbuser/.cache/pip/wheels/80/34/1c/3967380d9676d162cb59513bd9dc862d0584e045a162095606\n",
      "  Running setup.py bdist_wheel for pyperclip ... \u001b[?25ldone\n",
      "\u001b[?25h  Stored in directory: /home/nbuser/.cache/pip/wheels/58/32/92/2227fba72f0702e4168f084c6dfc2d6d3fd1904634ab61ca6a\n",
      "Successfully built kaggle-cli cliff configparser PrettyTable pyperclip\n",
      "Installing collected packages: pyperclip, cmd2, PrettyTable, stevedore, cliff, MechanicalSoup, lxml, cssselect, configparser, python-utils, progressbar2, kaggle-cli\n",
      "  Found existing installation: lxml 4.1.0\n",
      "    Uninstalling lxml-4.1.0:\n",
      "      Successfully uninstalled lxml-4.1.0\n",
      "Successfully installed MechanicalSoup-0.8.0 PrettyTable-0.7.2 cliff-2.8.1 cmd2-0.9.1 configparser-3.5.0 cssselect-1.0.3 kaggle-cli-0.12.13 lxml-4.0.0 progressbar2-3.34.3 pyperclip-1.6.2 python-utils-2.3.0 stevedore-1.28.0\n"
     ]
    }
   ],
   "source": [
    "!pip install kaggle-cli"
   ]
  },
  {
   "cell_type": "code",
   "execution_count": 5,
   "metadata": {},
   "outputs": [
    {
     "name": "stderr",
     "output_type": "stream",
     "text": [
      "/home/nbuser/anaconda3_501/lib/python3.6/site-packages/matplotlib/font_manager.py:281: UserWarning: Matplotlib is building the font cache using fc-list. This may take a moment.\n",
      "  'Matplotlib is building the font cache using fc-list. '\n"
     ]
    }
   ],
   "source": [
    "from pyspark.sql import SparkSession\n",
    "from pyspark.sql.functions import col\n",
    "import pyspark.sql\n",
    "import pandas as pd\n",
    "import numpy as np\n",
    "from matplotlib import pyplot as plt\n",
    "import numpy as np\n",
    "from pyspark.sql.functions import count\n",
    "import seaborn as sns"
   ]
  },
  {
   "cell_type": "code",
   "execution_count": 4,
   "metadata": {},
   "outputs": [
    {
     "name": "stdout",
     "output_type": "stream",
     "text": [
      "Collecting pyspark\n",
      "\u001b[?25l  Downloading https://files.pythonhosted.org/packages/ee/2f/709df6e8dc00624689aa0a11c7a4c06061a7d00037e370584b9f011df44c/pyspark-2.3.1.tar.gz (211.9MB)\n",
      "\u001b[K    100% |████████████████████████████████| 211.9MB 6.9kB/s ta 0:00:011 0% |▎                               | 1.5MB 8.6MB/s eta 0:00:25    0% |▎                               | 2.1MB 5.7MB/s eta 0:00:37    5% |█▊                              | 11.5MB 1.4MB/s eta 0:02:28    5% |█▉                              | 11.9MB 1.2MB/s eta 0:02:53    5% |█▉                              | 12.1MB 5.0MB/s eta 0:00:40    6% |██                              | 13.2MB 9.3MB/s eta 0:00:22    6% |██                              | 14.0MB 4.1MB/s eta 0:00:49    17% |█████▌                          | 36.5MB 5.3MB/s eta 0:00:34    18% |██████                          | 39.7MB 4.5MB/s eta 0:00:39    21% |██████▉                         | 44.9MB 5.6MB/s eta 0:00:30    29% |█████████▎                      | 61.6MB 7.9MB/s eta 0:00:19    33% |██████████▊                     | 71.0MB 3.2MB/s eta 0:00:44    33% |██████████▉                     | 71.8MB 10.2MB/s eta 0:00:14    34% |███████████                     | 73.5MB 9.5MB/s eta 0:00:15         | 79.7MB 5.0MB/s eta 0:00:27��█████████▌                   | 82.5MB 6.4MB/s eta 0:00:21    42% |█████████████▌                  | 89.3MB 4.4MB/s eta 0:00:29    44% |██████████████                  | 93.4MB 5.9MB/s eta 0:00:21████▌                 | 96.1MB 9.4MB/s eta 0:00:13�████▉                 | 98.2MB 5.2MB/s eta 0:00:22    48% |███████████████▌                | 102.9MB 6.0MB/s eta 0:00:19B/s eta 0:00:14�██▎               | 107.9MB 4.9MB/s eta 0:00:22��█▋               | 109.8MB 4.5MB/s eta 0:00:23██████               | 112.1MB 17.0MB/s eta 0:00:06��██               | 113.3MB 4.8MB/s eta 0:00:21████████████████▏              | 114.0MB 5.4MB/s eta 0:00:19███████████████▍              | 115.3MB 5.4MB/s eta 0:00:18    57% |██████████████████▎             | 120.8MB 5.5MB/s eta 0:00:17MB/s eta 0:00:28MB/s eta 0:00:174kB/s eta 0:01:4712.5MB/s eta 0:00:07    60% |███████████████████▌            | 128.9MB 3.9MB/s eta 0:00:22��███▋            | 130.1MB 4.6MB/s eta 0:00:18�████            | 132.8MB 8.4MB/s eta 0:00:10��█████████████▌           | 135.5MB 4.7MB/s eta 0:00:17███████████████▋           | 136.4MB 4.3MB/s eta 0:00:18�███████████████▉           | 137.7MB 7.6MB/s eta 0:00:10 0:00:13    66% |█████████████████████▎          | 141.3MB 4.7MB/s eta 0:00:15:00:15 0:00:10��         | 150.1MB 8.8MB/s eta 0:00:07��█████████████████         | 152.8MB 6.5MB/s eta 0:00:10��████████████▎        | 154.3MB 4.5MB/s eta 0:00:13    73% |███████████████████████▍        | 154.9MB 6.7MB/s eta 0:00:09    73% |███████████████████████▋        | 156.2MB 8.2MB/s eta 0:00:07�███████████▊        | 156.9MB 8.6MB/s eta 0:00:07�██████████████        | 159.1MB 5.5MB/s eta 0:00:10███████████████████████▎       | 161.1MB 5.4MB/s eta 0:00:10 |████████████████████████▌       | 162.2MB 11.4MB/s eta 0:00:05    77% |████████████████████████▉       | 164.3MB 12.4MB/s eta 0:00:04████████████████████████       | 165.3MB 3.9MB/s eta 0:00:12    79% |█████████████████████████▋      | 169.5MB 10.5MB/s eta 0:00:05 eta 0:00:15��███████▏     | 173.3MB 12.7MB/s eta 0:00:04�████▍     | 175.0MB 3.5MB/s eta 0:00:11��███▉     | 177.7MB 5.3MB/s eta 0:00:07��██████     | 179.0MB 7.9MB/s eta 0:00:05��██████████████▏    | 180.1MB 3.8MB/s eta 0:00:09    85% |███████████████████████████▍    | 181.7MB 8.9MB/s eta 0:00:04�███████████████▌    | 182.0MB 9.1MB/s eta 0:00:04    86% |███████████████████████████▋    | 183.1MB 8.0MB/s eta 0:00:04�███████████████▊    | 183.8MB 8.1MB/s eta 0:00:04��█████████████████████▏   | 186.2MB 6.5MB/s eta 0:00:0488% |████████████████████████████▎   | 187.4MB 5.3MB/s eta 0:00:05 |████████████████████████████▍   | 188.3MB 4.7MB/s eta 0:00:06��███████████████████████████▋   | 189.2MB 11.7MB/s eta 0:00:02�███████████████████████████▊   | 190.0MB 10.7MB/s eta 0:00:03�████▏  | 193.4MB 11.3MB/s eta 0:00:02.6MB/s eta 0:00:02/s eta 0:00:02ta 0:00:02�██▎ | 200.7MB 8.6MB/s eta 0:00:02��███▋ | 202.8MB 11.1MB/s eta 0:00:01�██▉ | 204.1MB 3.7MB/s eta 0:00:03��████ | 205.8MB 10.1MB/s eta 0:00:01��████████████████▎| 207.1MB 9.4MB/s eta 0:00:01��█████████████▌| 208.5MB 5.4MB/s eta 0:00:01��████████████▊| 210.0MB 9.1MB/s eta 0:00:01�█████▉| 210.8MB 10.9MB/s eta 0:00:01\n",
      "\u001b[?25hCollecting py4j==0.10.7 (from pyspark)\n",
      "\u001b[?25l  Downloading https://files.pythonhosted.org/packages/e3/53/c737818eb9a7dc32a7cd4f1396e787bd94200c3997c72c1dbe028587bd76/py4j-0.10.7-py2.py3-none-any.whl (197kB)\n",
      "\u001b[K    100% |████████████████████████████████| 204kB 4.2MB/s ta 0:00:011\n",
      "\u001b[?25hBuilding wheels for collected packages: pyspark\n",
      "  Running setup.py bdist_wheel for pyspark ... \u001b[?25ldone\n",
      "\u001b[?25h  Stored in directory: /home/nbuser/.cache/pip/wheels/37/48/54/f1b63f0dbb729e20c92f1bbcf1c53c03b300e0b93ca1781526\n",
      "Successfully built pyspark\n",
      "Installing collected packages: py4j, pyspark\n",
      "Successfully installed py4j-0.10.7 pyspark-2.3.1\n"
     ]
    }
   ],
   "source": [
    "!pip install pyspark"
   ]
  },
  {
   "cell_type": "code",
   "execution_count": 7,
   "metadata": {},
   "outputs": [],
   "source": [
    "spark = SparkSession.builder.getOrCreate()"
   ]
  },
  {
   "cell_type": "code",
   "execution_count": 13,
   "metadata": {},
   "outputs": [],
   "source": [
    "df = pd.read_csv('test.csv.gz', compression='gzip')"
   ]
  },
  {
   "cell_type": "code",
   "execution_count": 14,
   "metadata": {},
   "outputs": [
    {
     "data": {
      "text/html": [
       "<div>\n",
       "<style>\n",
       "    .dataframe thead tr:only-child th {\n",
       "        text-align: right;\n",
       "    }\n",
       "\n",
       "    .dataframe thead th {\n",
       "        text-align: left;\n",
       "    }\n",
       "\n",
       "    .dataframe tbody tr th {\n",
       "        vertical-align: top;\n",
       "    }\n",
       "</style>\n",
       "<table border=\"1\" class=\"dataframe\">\n",
       "  <thead>\n",
       "    <tr style=\"text-align: right;\">\n",
       "      <th></th>\n",
       "      <th>id</th>\n",
       "      <th>date_time</th>\n",
       "      <th>site_name</th>\n",
       "      <th>posa_continent</th>\n",
       "      <th>user_location_country</th>\n",
       "      <th>user_location_region</th>\n",
       "      <th>user_location_city</th>\n",
       "      <th>orig_destination_distance</th>\n",
       "      <th>user_id</th>\n",
       "      <th>is_mobile</th>\n",
       "      <th>...</th>\n",
       "      <th>srch_ci</th>\n",
       "      <th>srch_co</th>\n",
       "      <th>srch_adults_cnt</th>\n",
       "      <th>srch_children_cnt</th>\n",
       "      <th>srch_rm_cnt</th>\n",
       "      <th>srch_destination_id</th>\n",
       "      <th>srch_destination_type_id</th>\n",
       "      <th>hotel_continent</th>\n",
       "      <th>hotel_country</th>\n",
       "      <th>hotel_market</th>\n",
       "    </tr>\n",
       "  </thead>\n",
       "  <tbody>\n",
       "    <tr>\n",
       "      <th>0</th>\n",
       "      <td>0</td>\n",
       "      <td>2015-09-03 17:09:54</td>\n",
       "      <td>2</td>\n",
       "      <td>3</td>\n",
       "      <td>66</td>\n",
       "      <td>174</td>\n",
       "      <td>37449</td>\n",
       "      <td>5539.0567</td>\n",
       "      <td>1</td>\n",
       "      <td>1</td>\n",
       "      <td>...</td>\n",
       "      <td>2016-05-19</td>\n",
       "      <td>2016-05-23</td>\n",
       "      <td>2</td>\n",
       "      <td>0</td>\n",
       "      <td>1</td>\n",
       "      <td>12243</td>\n",
       "      <td>6</td>\n",
       "      <td>6</td>\n",
       "      <td>204</td>\n",
       "      <td>27</td>\n",
       "    </tr>\n",
       "    <tr>\n",
       "      <th>1</th>\n",
       "      <td>1</td>\n",
       "      <td>2015-09-24 17:38:35</td>\n",
       "      <td>2</td>\n",
       "      <td>3</td>\n",
       "      <td>66</td>\n",
       "      <td>174</td>\n",
       "      <td>37449</td>\n",
       "      <td>5873.2923</td>\n",
       "      <td>1</td>\n",
       "      <td>1</td>\n",
       "      <td>...</td>\n",
       "      <td>2016-05-12</td>\n",
       "      <td>2016-05-15</td>\n",
       "      <td>2</td>\n",
       "      <td>0</td>\n",
       "      <td>1</td>\n",
       "      <td>14474</td>\n",
       "      <td>7</td>\n",
       "      <td>6</td>\n",
       "      <td>204</td>\n",
       "      <td>1540</td>\n",
       "    </tr>\n",
       "    <tr>\n",
       "      <th>2</th>\n",
       "      <td>2</td>\n",
       "      <td>2015-06-07 15:53:02</td>\n",
       "      <td>2</td>\n",
       "      <td>3</td>\n",
       "      <td>66</td>\n",
       "      <td>142</td>\n",
       "      <td>17440</td>\n",
       "      <td>3975.9776</td>\n",
       "      <td>20</td>\n",
       "      <td>0</td>\n",
       "      <td>...</td>\n",
       "      <td>2015-07-26</td>\n",
       "      <td>2015-07-27</td>\n",
       "      <td>4</td>\n",
       "      <td>0</td>\n",
       "      <td>1</td>\n",
       "      <td>11353</td>\n",
       "      <td>1</td>\n",
       "      <td>2</td>\n",
       "      <td>50</td>\n",
       "      <td>699</td>\n",
       "    </tr>\n",
       "    <tr>\n",
       "      <th>3</th>\n",
       "      <td>3</td>\n",
       "      <td>2015-09-14 14:49:10</td>\n",
       "      <td>2</td>\n",
       "      <td>3</td>\n",
       "      <td>66</td>\n",
       "      <td>258</td>\n",
       "      <td>34156</td>\n",
       "      <td>1508.5975</td>\n",
       "      <td>28</td>\n",
       "      <td>0</td>\n",
       "      <td>...</td>\n",
       "      <td>2015-09-14</td>\n",
       "      <td>2015-09-16</td>\n",
       "      <td>2</td>\n",
       "      <td>0</td>\n",
       "      <td>1</td>\n",
       "      <td>8250</td>\n",
       "      <td>1</td>\n",
       "      <td>2</td>\n",
       "      <td>50</td>\n",
       "      <td>628</td>\n",
       "    </tr>\n",
       "    <tr>\n",
       "      <th>4</th>\n",
       "      <td>4</td>\n",
       "      <td>2015-07-17 09:32:04</td>\n",
       "      <td>2</td>\n",
       "      <td>3</td>\n",
       "      <td>66</td>\n",
       "      <td>467</td>\n",
       "      <td>36345</td>\n",
       "      <td>66.7913</td>\n",
       "      <td>50</td>\n",
       "      <td>0</td>\n",
       "      <td>...</td>\n",
       "      <td>2015-07-22</td>\n",
       "      <td>2015-07-23</td>\n",
       "      <td>2</td>\n",
       "      <td>0</td>\n",
       "      <td>1</td>\n",
       "      <td>11812</td>\n",
       "      <td>1</td>\n",
       "      <td>2</td>\n",
       "      <td>50</td>\n",
       "      <td>538</td>\n",
       "    </tr>\n",
       "  </tbody>\n",
       "</table>\n",
       "<p>5 rows × 22 columns</p>\n",
       "</div>"
      ],
      "text/plain": [
       "   id            date_time  site_name  posa_continent  user_location_country  \\\n",
       "0   0  2015-09-03 17:09:54          2               3                     66   \n",
       "1   1  2015-09-24 17:38:35          2               3                     66   \n",
       "2   2  2015-06-07 15:53:02          2               3                     66   \n",
       "3   3  2015-09-14 14:49:10          2               3                     66   \n",
       "4   4  2015-07-17 09:32:04          2               3                     66   \n",
       "\n",
       "   user_location_region  user_location_city  orig_destination_distance  \\\n",
       "0                   174               37449                  5539.0567   \n",
       "1                   174               37449                  5873.2923   \n",
       "2                   142               17440                  3975.9776   \n",
       "3                   258               34156                  1508.5975   \n",
       "4                   467               36345                    66.7913   \n",
       "\n",
       "   user_id  is_mobile      ...          srch_ci     srch_co srch_adults_cnt  \\\n",
       "0        1          1      ...       2016-05-19  2016-05-23               2   \n",
       "1        1          1      ...       2016-05-12  2016-05-15               2   \n",
       "2       20          0      ...       2015-07-26  2015-07-27               4   \n",
       "3       28          0      ...       2015-09-14  2015-09-16               2   \n",
       "4       50          0      ...       2015-07-22  2015-07-23               2   \n",
       "\n",
       "  srch_children_cnt  srch_rm_cnt  srch_destination_id  \\\n",
       "0                 0            1                12243   \n",
       "1                 0            1                14474   \n",
       "2                 0            1                11353   \n",
       "3                 0            1                 8250   \n",
       "4                 0            1                11812   \n",
       "\n",
       "   srch_destination_type_id  hotel_continent  hotel_country  hotel_market  \n",
       "0                         6                6            204            27  \n",
       "1                         7                6            204          1540  \n",
       "2                         1                2             50           699  \n",
       "3                         1                2             50           628  \n",
       "4                         1                2             50           538  \n",
       "\n",
       "[5 rows x 22 columns]"
      ]
     },
     "execution_count": 14,
     "metadata": {},
     "output_type": "execute_result"
    }
   ],
   "source": [
    "df.head()"
   ]
  },
  {
   "cell_type": "code",
   "execution_count": 15,
   "metadata": {},
   "outputs": [
    {
     "data": {
      "text/plain": [
       "(2528243, 22)"
      ]
     },
     "execution_count": 15,
     "metadata": {},
     "output_type": "execute_result"
    }
   ],
   "source": [
    "df.shape"
   ]
  },
  {
   "cell_type": "code",
   "execution_count": 16,
   "metadata": {},
   "outputs": [],
   "source": [
    "test = spark.read.csv('test.csv.gz', header=True)"
   ]
  },
  {
   "cell_type": "code",
   "execution_count": 18,
   "metadata": {},
   "outputs": [
    {
     "name": "stdout",
     "output_type": "stream",
     "text": [
      "root\n",
      " |-- id: string (nullable = true)\n",
      " |-- date_time: string (nullable = true)\n",
      " |-- site_name: string (nullable = true)\n",
      " |-- posa_continent: string (nullable = true)\n",
      " |-- user_location_country: string (nullable = true)\n",
      " |-- user_location_region: string (nullable = true)\n",
      " |-- user_location_city: string (nullable = true)\n",
      " |-- orig_destination_distance: string (nullable = true)\n",
      " |-- user_id: string (nullable = true)\n",
      " |-- is_mobile: string (nullable = true)\n",
      " |-- is_package: string (nullable = true)\n",
      " |-- channel: string (nullable = true)\n",
      " |-- srch_ci: string (nullable = true)\n",
      " |-- srch_co: string (nullable = true)\n",
      " |-- srch_adults_cnt: string (nullable = true)\n",
      " |-- srch_children_cnt: string (nullable = true)\n",
      " |-- srch_rm_cnt: string (nullable = true)\n",
      " |-- srch_destination_id: string (nullable = true)\n",
      " |-- srch_destination_type_id: string (nullable = true)\n",
      " |-- hotel_continent: string (nullable = true)\n",
      " |-- hotel_country: string (nullable = true)\n",
      " |-- hotel_market: string (nullable = true)\n",
      "\n"
     ]
    }
   ],
   "source": [
    "test.printSchema()"
   ]
  },
  {
   "cell_type": "code",
   "execution_count": 19,
   "metadata": {},
   "outputs": [
    {
     "data": {
      "text/plain": [
       "[('id', 'string'),\n",
       " ('date_time', 'string'),\n",
       " ('site_name', 'string'),\n",
       " ('posa_continent', 'string'),\n",
       " ('user_location_country', 'string'),\n",
       " ('user_location_region', 'string'),\n",
       " ('user_location_city', 'string'),\n",
       " ('orig_destination_distance', 'string'),\n",
       " ('user_id', 'string'),\n",
       " ('is_mobile', 'string'),\n",
       " ('is_package', 'string'),\n",
       " ('channel', 'string'),\n",
       " ('srch_ci', 'string'),\n",
       " ('srch_co', 'string'),\n",
       " ('srch_adults_cnt', 'string'),\n",
       " ('srch_children_cnt', 'string'),\n",
       " ('srch_rm_cnt', 'string'),\n",
       " ('srch_destination_id', 'string'),\n",
       " ('srch_destination_type_id', 'string'),\n",
       " ('hotel_continent', 'string'),\n",
       " ('hotel_country', 'string'),\n",
       " ('hotel_market', 'string')]"
      ]
     },
     "execution_count": 19,
     "metadata": {},
     "output_type": "execute_result"
    }
   ],
   "source": [
    "test.dtypes"
   ]
  },
  {
   "cell_type": "code",
   "execution_count": 20,
   "metadata": {},
   "outputs": [
    {
     "name": "stdout",
     "output_type": "stream",
     "text": [
      "['id', 'date_time', 'site_name', 'posa_continent', 'user_location_country', 'user_location_region', 'user_location_city', 'orig_destination_distance', 'user_id', 'is_mobile', 'is_package', 'channel', 'srch_ci', 'srch_co', 'srch_adults_cnt', 'srch_children_cnt', 'srch_rm_cnt', 'srch_destination_id', 'srch_destination_type_id', 'hotel_continent', 'hotel_country', 'hotel_market'] \n",
      "\n",
      "The train set has 22 columns.\n"
     ]
    }
   ],
   "source": [
    "print(test.columns, \"\\n\")\n",
    "print(\"The train set has\", len(test.columns), \"columns.\")"
   ]
  },
  {
   "cell_type": "code",
   "execution_count": 22,
   "metadata": {},
   "outputs": [
    {
     "data": {
      "text/plain": [
       "['id',\n",
       " 'date_time',\n",
       " 'site_name',\n",
       " 'posa_continent',\n",
       " 'user_location_country',\n",
       " 'user_location_region',\n",
       " 'user_location_city',\n",
       " 'orig_destination_distance',\n",
       " 'user_id',\n",
       " 'is_mobile',\n",
       " 'is_package',\n",
       " 'channel',\n",
       " 'srch_ci',\n",
       " 'srch_co',\n",
       " 'srch_adults_cnt',\n",
       " 'srch_children_cnt',\n",
       " 'srch_rm_cnt',\n",
       " 'srch_destination_id',\n",
       " 'srch_destination_type_id',\n",
       " 'hotel_continent',\n",
       " 'hotel_country',\n",
       " 'hotel_market']"
      ]
     },
     "execution_count": 22,
     "metadata": {},
     "output_type": "execute_result"
    }
   ],
   "source": [
    "test.columns"
   ]
  },
  {
   "cell_type": "code",
   "execution_count": 42,
   "metadata": {},
   "outputs": [],
   "source": [
    "int_columns = ['site_name', 'posa_continent', 'user_location_country', 'user_location_region', 'user_location_city', \n",
    "               'user_id', 'is_mobile', 'is_package', 'channel', 'srch_adults_cnt', 'srch_children_cnt', 'srch_rm_cnt',\n",
    "               'srch_destination_id', 'srch_destination_type_id', 'hotel_continent', 'hotel_country', \n",
    "               'hotel_market']\n",
    "float_columns = ['orig_destination_distance']\n",
    "date_columns = ['date_time', 'srch_ci', 'srch_co']"
   ]
  },
  {
   "cell_type": "code",
   "execution_count": 43,
   "metadata": {},
   "outputs": [
    {
     "data": {
      "text/plain": [
       "['site_name',\n",
       " 'posa_continent',\n",
       " 'user_location_country',\n",
       " 'user_location_region',\n",
       " 'user_location_city',\n",
       " 'user_id',\n",
       " 'is_mobile',\n",
       " 'is_package',\n",
       " 'channel',\n",
       " 'srch_adults_cnt',\n",
       " 'srch_children_cnt',\n",
       " 'srch_rm_cnt',\n",
       " 'srch_destination_id',\n",
       " 'srch_destination_type_id',\n",
       " 'hotel_continent',\n",
       " 'hotel_country',\n",
       " 'hotel_market']"
      ]
     },
     "execution_count": 43,
     "metadata": {},
     "output_type": "execute_result"
    }
   ],
   "source": [
    "int_columns"
   ]
  },
  {
   "cell_type": "code",
   "execution_count": 44,
   "metadata": {},
   "outputs": [],
   "source": [
    "for i in range(len(int_columns)):\n",
    "    test = test.withColumn(int_columns[i], test[int_columns[i]].astype('int'))"
   ]
  },
  {
   "cell_type": "code",
   "execution_count": null,
   "metadata": {},
   "outputs": [],
   "source": []
  }
 ],
 "metadata": {
  "kernelspec": {
   "display_name": "Python 3.6",
   "language": "python",
   "name": "python36"
  },
  "language_info": {
   "codemirror_mode": {
    "name": "ipython",
    "version": 3
   },
   "file_extension": ".py",
   "mimetype": "text/x-python",
   "name": "python",
   "nbconvert_exporter": "python",
   "pygments_lexer": "ipython3",
   "version": "3.6.3"
  }
 },
 "nbformat": 4,
 "nbformat_minor": 2
}
